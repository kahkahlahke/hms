{
 "cells": [
  {
   "cell_type": "code",
   "execution_count": 23,
   "metadata": {},
   "outputs": [
    {
     "name": "stdout",
     "output_type": "stream",
     "text": [
      "tensor([[1, 0, 0, 0, 0, 0],\n",
      "        [1, 0, 0, 0, 0, 0],\n",
      "        [1, 0, 0, 0, 0, 0],\n",
      "        ...,\n",
      "        [0, 0, 0, 0, 0, 1],\n",
      "        [0, 0, 0, 0, 0, 1],\n",
      "        [0, 0, 0, 0, 0, 1]])\n",
      "tensor([[-0.0441, -0.0386, -0.0439,  ..., -0.0593, -0.0626,  0.0140],\n",
      "        [-0.0709, -0.0633, -0.0631,  ..., -0.0947, -0.0731,  0.0560],\n",
      "        [-0.0430, -0.0500, -0.0525,  ..., -0.1039, -0.0763,  0.1030],\n",
      "        ...,\n",
      "        [-0.4271, -0.2522, -0.2110,  ..., -0.2196,  0.0566, -0.0720],\n",
      "        [-0.4923, -0.2436, -0.1287,  ..., -0.1767,  0.0600, -0.0995],\n",
      "        [-0.2791, -0.1150, -0.0844,  ..., -0.1120,  0.1656, -0.0813]])\n",
      "Net(\n",
      "  (fc1): Linear(in_features=200000, out_features=1024, bias=True)\n",
      "  (fc2): Linear(in_features=1024, out_features=512, bias=True)\n",
      "  (fc3): Linear(in_features=512, out_features=128, bias=True)\n",
      "  (fc4): Linear(in_features=128, out_features=6, bias=True)\n",
      ")\n"
     ]
    }
   ],
   "source": [
    "\n",
    "import pandas as pd\n",
    "from fastai.tabular.all import *\n",
    "import torch.nn as nn\n",
    "import torch.nn.functional as F\n",
    "from torch import tensor\n",
    "import torch.optim as optim\n",
    "\n",
    "pd.options.display.float_format = '{:2.f}'.format\n",
    "set_seed(12)\n",
    "df = pd.read_csv(\"train.csv\")\n",
    "GET_ROW = 0\n",
    "EEG_PATH = 'train_eegs/'\n",
    "SPEC_PATH = 'train_spectrograms/'\n",
    "n_coeff = 50 * 20 * 200\n",
    "t_dep_list = []\n",
    "t_indep_list = []\n",
    "train = pd.read_csv('train.csv')\n",
    "for ROW in range(200):\n",
    "    row = train.iloc[ROW]\n",
    "\n",
    "    t_dep_list.append([1 if x == max(row[9:15]) else 0 for x in row[9:15]])\n",
    "    #t_dep_list.append(row[9:15])\n",
    "    eeg = pd.read_parquet(f'{EEG_PATH}{row.eeg_id}.parquet')\n",
    "    eeg_offset = int( row.eeg_label_offset_seconds )\n",
    "    eeg = eeg.iloc[eeg_offset*200:(eeg_offset+50)*200]\n",
    "    flat = eeg.values.flatten()\n",
    "    max_val = max(eeg.values.flatten())\n",
    "    min_val = min(eeg.values.flatten())\n",
    "    scaled = [x/(max_val-min_val)  for x in eeg.values.flatten()]\n",
    "    t_indep_list.append(scaled)\n",
    "\n",
    "\n",
    "\n",
    "t_dep = tensor(t_dep_list, dtype=torch.long) \n",
    "t_indep = tensor(t_indep_list)\n",
    "print(t_dep)\n",
    "print(t_indep)\n",
    "\n",
    "class Net(nn.Module):\n",
    "    def __init__(self):\n",
    "        super().__init__()\n",
    "        self.fc1 = nn.Linear(n_coeff, 1024)\n",
    "        self.fc2 = nn.Linear(1024, 512)\n",
    "        self.fc3 = nn.Linear(512, 128)\n",
    "        self.fc4 = nn.Linear(128, 6)\n",
    "\n",
    "    def forward(self, x):\n",
    "        x = F.relu(self.fc1(x))\n",
    "        x = F.relu(self.fc2(x))\n",
    "        x = F.relu(self.fc3(x))\n",
    "        x = self.fc4(x)\n",
    "        return F.log_softmax(x)\n",
    "\n",
    "net = Net()\n",
    "print(net)\n",
    "\n",
    "\n",
    "loss_function = nn.CrossEntropyLoss()\n",
    "optimizer = optim.Adam(net.parameters(), lr=0.001)\n"
   ]
  },
  {
   "cell_type": "code",
   "execution_count": 27,
   "metadata": {},
   "outputs": [
    {
     "data": {
      "text/plain": [
       "tensor([1, 0, 0, 0, 0, 0])"
      ]
     },
     "execution_count": 27,
     "metadata": {},
     "output_type": "execute_result"
    }
   ],
   "source": [
    "t_dep[31]"
   ]
  },
  {
   "cell_type": "code",
   "execution_count": 9,
   "metadata": {},
   "outputs": [
    {
     "name": "stderr",
     "output_type": "stream",
     "text": [
      "/tmp/ipykernel_27796/4179861982.py:1: UserWarning: Implicit dimension choice for log_softmax has been deprecated. Change the call to include dim=X as an argument.\n",
      "  F.log_softmax(tensor([0,1,1,1]), dtype=float)\n"
     ]
    },
    {
     "data": {
      "text/plain": [
       "tensor([-2.2143, -1.2143, -1.2143, -1.2143], dtype=torch.float64)"
      ]
     },
     "execution_count": 9,
     "metadata": {},
     "output_type": "execute_result"
    }
   ],
   "source": [
    "F.log_softmax(tensor([0,1,1,1]), dtype=float)"
   ]
  },
  {
   "cell_type": "code",
   "execution_count": 28,
   "metadata": {},
   "outputs": [
    {
     "name": "stderr",
     "output_type": "stream",
     "text": [
      "/tmp/ipykernel_27796/1238573712.py:52: UserWarning: Implicit dimension choice for log_softmax has been deprecated. Change the call to include dim=X as an argument.\n",
      "  return F.log_softmax(x)\n"
     ]
    },
    {
     "ename": "",
     "evalue": "",
     "output_type": "error",
     "traceback": [
      "\u001b[1;31mThe Kernel crashed while executing code in the the current cell or a previous cell. Please review the code in the cell(s) to identify a possible cause of the failure. Click <a href='https://aka.ms/vscodeJupyterKernelCrash'>here</a> for more info. View Jupyter <a href='command:jupyter.viewOutput'>log</a> for further details."
     ]
    }
   ],
   "source": [
    "for epoch in range(3):\n",
    "    for i in range(200):\n",
    "        X = t_indep[i]\n",
    "        y = t_dep[i]\n",
    "        net.zero_grad()\n",
    "        output = net(X)\n",
    "        loss = F.nll_loss(output, y)\n",
    "        loss.backward()\n",
    "        optimizer.step()\n",
    "    print(loss)"
   ]
  },
  {
   "cell_type": "code",
   "execution_count": 22,
   "metadata": {},
   "outputs": [
    {
     "data": {
      "text/plain": [
       "tensor([0, 0, 0, 0, 0, 0])"
      ]
     },
     "execution_count": 22,
     "metadata": {},
     "output_type": "execute_result"
    }
   ],
   "source": [
    "net(t_indep[14])"
   ]
  },
  {
   "cell_type": "code",
   "execution_count": null,
   "metadata": {},
   "outputs": [],
   "source": []
  }
 ],
 "metadata": {
  "kernelspec": {
   "display_name": "Python 3",
   "language": "python",
   "name": "python3"
  },
  "language_info": {
   "codemirror_mode": {
    "name": "ipython",
    "version": 3
   },
   "file_extension": ".py",
   "mimetype": "text/x-python",
   "name": "python",
   "nbconvert_exporter": "python",
   "pygments_lexer": "ipython3",
   "version": "3.11.7"
  }
 },
 "nbformat": 4,
 "nbformat_minor": 2
}
